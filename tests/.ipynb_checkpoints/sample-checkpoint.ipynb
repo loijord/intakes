{
 "cells": [
  {
   "cell_type": "markdown",
   "metadata": {
    "collapsed": true
   },
   "source": [
    "### This html script with %%html magic"
   ]
  },
  {
   "cell_type": "code",
   "execution_count": 8,
   "metadata": {},
   "outputs": [
    {
     "data": {
      "text/html": [
       "<table>\n",
       "  <tr>\n",
       "    <td>\n",
       "    <iframe width=560 height=400 src=\"../research_examples/sample1.html\" frameborder=\"0\"></iframe>\n",
       "    </td>\n",
       "    <td>\n",
       "    <iframe width=560 height=400 src=\"../research_examples/sample1.html\" frameborder=\"0\"></iframe>\n",
       "    </td>\n",
       "  </tr>\n",
       "</table>\n"
      ],
      "text/plain": [
       "<IPython.core.display.HTML object>"
      ]
     },
     "metadata": {},
     "output_type": "display_data"
    }
   ],
   "source": [
    "%%HTML \n",
    "<table>\n",
    "  <tr>\n",
    "    <td>\n",
    "    <iframe width=560 height=400 src=\"../research_examples/sample1.html\" frameborder=\"0\"></iframe>\n",
    "    </td>\n",
    "    <td>\n",
    "    <iframe width=560 height=400 src=\"../research_examples/sample1.html\" frameborder=\"0\"></iframe>\n",
    "    </td>\n",
    "  </tr>\n",
    "</table>"
   ]
  },
  {
   "cell_type": "markdown",
   "metadata": {},
   "source": [
    "## This is a simple code cell"
   ]
  },
  {
   "cell_type": "code",
   "execution_count": 5,
   "metadata": {
    "tags": [
     "hide_code"
    ]
   },
   "outputs": [
    {
     "name": "stdout",
     "output_type": "stream",
     "text": [
      "Hello\n"
     ]
    }
   ],
   "source": [
    "print('Hello')\n",
    "#| hide_code"
   ]
  },
  {
   "cell_type": "markdown",
   "metadata": {},
   "source": [
    "## This is a simple markdown cell"
   ]
  },
  {
   "cell_type": "markdown",
   "metadata": {},
   "source": [
    "**Hello**, please #| hide_code"
   ]
  },
  {
   "cell_type": "markdown",
   "metadata": {},
   "source": [
    "#### Additional notes\n",
    "* ```jupyter nbconvert --to html --RegexRemovePreprocessor.patterns=\"#| hide_code\" tests/sample.ipynb``` no reaction\n",
    "* ```jupyter nbconvert --to html --TagRemovePreprocessor.remove_cell_tags=hide_code tests/sample.ipynb``` no input and output at cells with tag \"hide_code\"\n",
    "* ```jupyter nbconvert --to html --TagRemovePreprocessor.enabled=True --TagRemovePreprocessor.remove_cell_tags=hide_code tests/sample.ipynb``` no input and output at cells with tag \"hide_code\"\n",
    "* ```jupyter nbconvert --to html --no-input tests/sample.ipynb``` works right, no input\n",
    "\n"
   ]
  },
  {
   "cell_type": "code",
   "execution_count": null,
   "metadata": {},
   "outputs": [],
   "source": [
    "docs\n",
    "https://nbconvert.readthedocs.io/en/latest/removing_cells.html\n",
    "https://mljar.com/blog/jupyter-notebook-hide-code/"
   ]
  }
 ],
 "metadata": {
  "celltoolbar": "Tags",
  "kernelspec": {
   "display_name": "Python 3 (ipykernel)",
   "language": "python",
   "name": "python3"
  },
  "language_info": {
   "codemirror_mode": {
    "name": "ipython",
    "version": 3
   },
   "file_extension": ".py",
   "mimetype": "text/x-python",
   "name": "python",
   "nbconvert_exporter": "python",
   "pygments_lexer": "ipython3",
   "version": "3.8.10"
  }
 },
 "nbformat": 4,
 "nbformat_minor": 1
}
