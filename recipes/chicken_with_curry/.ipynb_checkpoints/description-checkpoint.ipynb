{
 "cells": [
  {
   "cell_type": "markdown",
   "metadata": {
    "ExecuteTime": {
     "end_time": "2023-05-23T19:36:55.566304942Z",
     "start_time": "2023-05-23T19:36:55.356239542Z"
    },
    "collapsed": true
   },
   "source": [
    "### Video\n",
    "Klasikinis Gordon Ramsey receptas Chicken With Curry In A Hurry klaidžioja jūtubėse:"
   ]
  },
  {
   "cell_type": "code",
   "execution_count": 1,
   "metadata": {},
   "outputs": [
    {
     "data": {
      "text/html": [
       "<iframe width=\"560\" height=\"315\" src=\"https://www.youtube.com/embed/87gx9-8ksJU\" </iframe>\n"
      ],
      "text/plain": [
       "<IPython.core.display.HTML object>"
      ]
     },
     "metadata": {},
     "output_type": "display_data"
    }
   ],
   "source": [
    "%%HTML\n",
    "<iframe width=\"560\" height=\"315\" src=\"https://www.youtube.com/embed/87gx9-8ksJU\"></iframe>"
   ]
  },
  {
   "cell_type": "markdown",
   "metadata": {},
   "source": [
    "### Ingredientai (truputį skiriasi nuo tyrime nagrinėjamo recepto)\n",
    "\n",
    "```\n",
    "2 chicken breasts, diced\n",
    "1 butternut squash, peeled (you could use courgette if you haven’t got any squash)\n",
    "1 red onion\n",
    "1 inch of ginger\n",
    "1/3 cup of peas\n",
    "1 cup of tinned tomatoes\n",
    "1 cup coconut milk\n",
    "2 1/2 teaspoons of curry powder\n",
    "Chicken or vegetable stock\n",
    "1 chilli pepper, chopped\n",
    "1/2 cup of spinach\n",
    "Oil\n",
    "```\n",
    "\n",
    "### Gaminimo instrukcija\n",
    "\n",
    "1. Put your non-stick pan (Ramsay’s is from Tesco and is “incredible”, says the chef) over a medium-high heat and add a drizzle of oil once warm. Meanwhile, using the large side of a cheese grater, grate the squash and add to the pan. Season with salt and add curry powder, sprinkling it over the butternut squash.\n",
    "2. Grate the red onion as the squash cooks and add to the mixture. Let it cook for 1-2 minutes then add the chilli. After a minute of cooking, use a microplane and shave the ginger into the mixture.\n",
    "3. Once the mixture is nicely cooked, add the diced chicken and toss. After about 2 minutes, add peas. After another minute add tomatoes and after another minute, add the coconut milk. Mix and cook for about 2 minutes. Then add 2 tablespoons of stock, bring to boil, then simmer until the chicken is cooked, around 5 minutes.\n",
    "4. Put all the roti ingredients together into a bowl and mix to form a dough (Ramsay recommends letting the dough rest for 15 minutes, so it’s best to make this ahead of time). Heat a frying pan over a hot heat. Take the dough and form into small balls and roll out into squares. Salt the pan and then add the dough squares. Cook for about 90 seconds each side or until slightly charred. Once cooked, slice into 4 squares per person.\n",
    "5. Once the chicken is cooked, add spinach to the curry and cook till wilted. Then take the pan off the heat and serve.\n",
    "    \n",
    "Gaminimo instrukcija paimta iš šio puslapio:\n",
    "    \n",
    "[https://www.huffingtonpost.co.uk/entry/quick-chicken-curry-recipe-gordon-ramsay_uk_5f08297bc5b63a72c33ff955](https://www.huffingtonpost.co.uk/entry/quick-chicken-curry-recipe-gordon-ramsay_uk_5f08297bc5b63a72c33ff955)"
   ]
  },
  {
   "cell_type": "markdown",
   "metadata": {},
   "source": [
    "### Technical Notes\n",
    "\n",
    "Šis receptas bus ypatingas tuo, kad kartu tai yra mano pirmas bandymas įkelti YouTube video į savo ant GitHub Pages veikiantį saitą. Visa informacija, kaip tai padaryti, guli šiame saite.\n",
    "\n",
    "[https://christianheilmann.com/2022/09/14/quick-tip-embedding-youtube-videos-in-github-pages/](https://christianheilmann.com/2022/09/14/quick-tip-embedding-youtube-videos-in-github-pages/)\n",
    "\n",
    "Deja, bet video talpinimas Jupyter Notebooks nurodytu būdu Markdown tipo celėse pagal instrukcijas nesuveikė.\n",
    "\n",
    "Failą surinkęs su Jupyter Notebooks (.ipynb) konvertavau jį į HTML tipo failą paleidęs per komandinę eilutę šią komandą:\n",
    "\n",
    "```jupyter nbconvert --to html --no-input recipes/chicken_with_curry/description.ipynb```"
   ]
  }
 ],
 "metadata": {
  "kernelspec": {
   "display_name": "Python 3 (ipykernel)",
   "language": "python",
   "name": "python3"
  },
  "language_info": {
   "codemirror_mode": {
    "name": "ipython",
    "version": 3
   },
   "file_extension": ".py",
   "mimetype": "text/x-python",
   "name": "python",
   "nbconvert_exporter": "python",
   "pygments_lexer": "ipython3",
   "version": "3.8.10"
  }
 },
 "nbformat": 4,
 "nbformat_minor": 1
}
